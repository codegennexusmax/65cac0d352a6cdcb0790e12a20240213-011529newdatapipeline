{
 "cells": [
  {
   "cell_type": "markdown",
   "id": "3a7c9692",
   "metadata": {},
   "source": [
    "***EXTENSIONS FOR newdatapipeline PIPELINE YOU CAN EDIT THESE EXTENSIONS***"
   ]
  },
  {
   "cell_type": "markdown",
   "id": "2b222311",
   "metadata": {},
   "source": [
    "***EXTENSIONS FOR SOURCE STAGE***"
   ]
  },
  {
   "cell_type": "code",
   "execution_count": null,
   "id": "49f02741",
   "metadata": {},
   "outputs": [],
   "source": [
    "def sourcePreExecutionHook():\n",
    "\tprint('inside source pre execution hook')\n",
    "\n",
    "\n",
    "def sourcePostExecutionHook(data):\n",
    "\tprint('inside source post execution hook')\n",
    "\n",
    "\n"
   ]
  },
  {
   "cell_type": "markdown",
   "id": "395ff146",
   "metadata": {},
   "source": [
    "***EXTENSIONS FOR TRANSFORMATION STAGE***"
   ]
  },
  {
   "cell_type": "code",
   "execution_count": null,
   "id": "41a08cd8",
   "metadata": {},
   "outputs": [],
   "source": [
    "def transformationPreExecutionHook():\n",
    "\tprint('inside transformation pre execution hook')\n",
    "\n",
    "\n",
    "def transformationPostExecutionHook(data):\n",
    "\tprint('inside transformation post execution hook')\n",
    "\n",
    "\n"
   ]
  },
  {
   "cell_type": "markdown",
   "id": "db0ab56e",
   "metadata": {},
   "source": [
    "***EXTENSIONS FOR SINK STAGE***"
   ]
  },
  {
   "cell_type": "code",
   "execution_count": null,
   "id": "59045053",
   "metadata": {},
   "outputs": [],
   "source": [
    "def sinkPreExecutionHook():\n",
    "\tprint('inside sink pre execution hook')\n",
    "\n",
    "\n",
    "def sinkPostExecutionHook(data):\n",
    "\tprint('inside sink post execution hook')\n",
    "\n",
    "\n"
   ]
  }
 ],
 "metadata": {},
 "nbformat": 4,
 "nbformat_minor": 5
}
